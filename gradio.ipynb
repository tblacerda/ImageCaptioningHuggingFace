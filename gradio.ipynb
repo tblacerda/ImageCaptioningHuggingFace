{
 "cells": [
  {
   "cell_type": "code",
   "execution_count": 3,
   "id": "f13fd76b",
   "metadata": {},
   "outputs": [
    {
     "name": "stdout",
     "output_type": "stream",
     "text": [
      "* Running on local URL:  http://127.0.0.1:7000\n",
      "* To create a public link, set `share=True` in `launch()`.\n"
     ]
    },
    {
     "data": {
      "text/html": [
       "<div><iframe src=\"http://127.0.0.1:7000/\" width=\"100%\" height=\"500\" allow=\"autoplay; camera; microphone; clipboard-read; clipboard-write;\" frameborder=\"0\" allowfullscreen></iframe></div>"
      ],
      "text/plain": [
       "<IPython.core.display.HTML object>"
      ]
     },
     "metadata": {},
     "output_type": "display_data"
    },
    {
     "data": {
      "text/plain": []
     },
     "execution_count": 3,
     "metadata": {},
     "output_type": "execute_result"
    }
   ],
   "source": [
    "import gradio as gr\n",
    "def greet(name, intensity):\n",
    "  return \"Hello, \" + name + \"!\" * int(intensity)\n",
    "demo = gr.Interface(\n",
    "    fn=greet,\n",
    "    inputs=[\n",
    "        gr.Textbox(label=\"Your Name\", placeholder=\"Type your name here...\"),\n",
    "        gr.Slider(1, 10, value=1, label=\"Excitement Level\")\n",
    "    ],\n",
    "    outputs=gr.Textbox(label=\"Greeting\"),\n",
    "    title=\"Personalized Greeter\",\n",
    "    description=\"Enter your name and choose how excited you want the greeting to be!\",\n",
    "    theme=\"soft\",\n",
    "    allow_flagging=\"never\",\n",
    "    examples=[\n",
    "        [\"Alice\", 3],\n",
    "        [\"Bob\", 7],\n",
    "        [\"Charlie\", 1]\n",
    "    ]\n",
    ")\n",
    "demo.launch(server_name=\"127.0.0.1\", server_port= 7000)"
   ]
  }
 ],
 "metadata": {
  "kernelspec": {
   "display_name": "HugFace",
   "language": "python",
   "name": "python3"
  },
  "language_info": {
   "codemirror_mode": {
    "name": "ipython",
    "version": 3
   },
   "file_extension": ".py",
   "mimetype": "text/x-python",
   "name": "python",
   "nbconvert_exporter": "python",
   "pygments_lexer": "ipython3",
   "version": "3.10.18"
  }
 },
 "nbformat": 4,
 "nbformat_minor": 5
}
